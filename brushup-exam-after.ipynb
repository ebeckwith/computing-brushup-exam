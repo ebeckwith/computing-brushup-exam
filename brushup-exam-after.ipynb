{
 "cells": [
  {
   "cell_type": "code",
   "execution_count": 1,
   "metadata": {
    "autoscroll": false,
    "ein.tags": "worksheet-0",
    "slideshow": {
     "slide_type": "-"
    }
   },
   "outputs": [],
   "source": [
    "%load_ext rpy2.ipython"
   ]
  },
  {
   "cell_type": "markdown",
   "metadata": {
    "ein.tags": "worksheet-0",
    "slideshow": {
     "slide_type": "-"
    }
   },
   "source": [
    "# Problem 1: The Command Line\n",
    "\n",
    "SSH into your instance. \n",
    "\n",
    "You will find a file located at $HOME/not-your-folder/2018_padro_nacionalitat_per_sexe.csv \n",
    "\n",
    "Your job is to create a new folder at $HOME/this-is-the-one, and move the csv file into that new folder"
   ]
  },
  {
   "cell_type": "markdown",
   "metadata": {
    "ein.tags": "worksheet-0",
    "slideshow": {
     "slide_type": "-"
    }
   },
   "source": [
    "# Problem 2: Plotting in R"
   ]
  },
  {
   "cell_type": "code",
   "execution_count": 2,
   "metadata": {
    "autoscroll": false,
    "ein.tags": "worksheet-0",
    "slideshow": {
     "slide_type": "-"
    }
   },
   "outputs": [
    {
     "name": "stderr",
     "output_type": "stream",
     "text": [
      "/opt/conda/lib/python3.6/site-packages/rpy2/rinterface/__init__.py:186: RRuntimeWarning: Loading tidyverse: ggplot2\n",
      "Loading tidyverse: tibble\n",
      "Loading tidyverse: tidyr\n",
      "Loading tidyverse: readr\n",
      "Loading tidyverse: purrr\n",
      "Loading tidyverse: dplyr\n",
      "\n",
      "  warnings.warn(x, RRuntimeWarning)\n",
      "/opt/conda/lib/python3.6/site-packages/rpy2/rinterface/__init__.py:186: RRuntimeWarning: Conflicts with tidy packages ---------------------------------------------------\n",
      "\n",
      "  warnings.warn(x, RRuntimeWarning)\n",
      "/opt/conda/lib/python3.6/site-packages/rpy2/rinterface/__init__.py:186: RRuntimeWarning: filter(): dplyr, stats\n",
      "lag():    dplyr, stats\n",
      "\n",
      "  warnings.warn(x, RRuntimeWarning)\n"
     ]
    }
   ],
   "source": [
    "%%R\n",
    "\n",
    "library(tidyverse)"
   ]
  },
  {
   "cell_type": "code",
   "execution_count": 104,
   "metadata": {
    "autoscroll": false,
    "ein.tags": "worksheet-0",
    "slideshow": {
     "slide_type": "-"
    }
   },
   "outputs": [
    {
     "name": "stderr",
     "output_type": "stream",
     "text": [
      "/opt/conda/lib/python3.6/site-packages/rpy2/rinterface/__init__.py:186: RRuntimeWarning: Parsed with column specification:\n",
      "cols(\n",
      "  Any = col_integer(),\n",
      "  Codi_Districte = col_integer(),\n",
      "  Nom_Districte = col_character(),\n",
      "  Codi_Barri = col_integer(),\n",
      "  Nom_Barri = col_character(),\n",
      "  Sexe = col_character(),\n",
      "  Nacionalitat = col_character(),\n",
      "  Nombre = col_integer()\n",
      ")\n",
      "\n",
      "  warnings.warn(x, RRuntimeWarning)\n"
     ]
    },
    {
     "data": {
      "text/plain": [
       "# A tibble: 6 x 8\n",
       "    Any Codi_Districte Nom_Districte Codi_Barri Nom_Barri    Sexe  Nacionalitat\n",
       "  <int>          <int> <chr>              <int> <chr>        <chr> <chr>       \n",
       "1  2018              1 Ciutat Vella           1 el Raval     Home  Espanya     \n",
       "2  2018              1 Ciutat Vella           2 el Barri Gò… Home  Espanya     \n",
       "3  2018              1 Ciutat Vella           3 la Barcelon… Home  Espanya     \n",
       "4  2018              1 Ciutat Vella           4 Sant Pere, … Home  Espanya     \n",
       "5  2018              2 Eixample               5 el Fort Pie… Home  Espanya     \n",
       "6  2018              2 Eixample               6 la Sagrada … Home  Espanya     \n",
       "# ... with 1 more variable: Nombre <int>\n"
      ]
     },
     "metadata": {},
     "output_type": "display_data"
    }
   ],
   "source": [
    "%%R\n",
    "\n",
    "# Read the file '2018_padro_nacionalitat_per_sexe.csv' from the new location, using read_csv\n",
    "# put the resulting Tibble into a variable called 'barris'\n",
    "\n",
    "barris <- read_csv('/home/jovyan/work/this-is-the-one/2018_padro_nacionalitat_per_sexe.csv')\n",
    "head(barris)"
   ]
  },
  {
   "cell_type": "code",
   "execution_count": 105,
   "metadata": {
    "autoscroll": false,
    "ein.tags": "worksheet-0",
    "slideshow": {
     "slide_type": "-"
    }
   },
   "outputs": [
    {
     "data": {
      "image/png": "[encoded data removed]"
     },
     "metadata": {},
     "output_type": "display_data"
    }
   ],
   "source": [
    "%%R\n",
    "\n",
    "# Let's manually convert a few columns into factors. \n",
    "barris <- barris %>% mutate(Nom_Barri = parse_factor(Nom_Barri, NULL), \n",
    "                  Sexe = parse_factor(Sexe, NULL),\n",
    "                  Nacionalitat = parse_factor(Nacionalitat, NULL))\n",
    "\n",
    "# We want to explore the neighborhood referred to as 'el Poblenou', in the variable\n",
    "# 'Nom_Barri' (neighborhood name). We will take a look at the gender and nationality\n",
    "# of the non-Spanish population in this neighborhood. \n",
    "#\n",
    "# First, filter the data to only 'el Poblenou'\n",
    "poblenou <- barris %>% filter(Nom_Barri==\"el Poblenou\")\n",
    "\n",
    "# Second, remove the nationality 'Espanya'\n",
    "poblenou_ns <- poblenou %>% filter(Nacionalitat!='Espanya')\n",
    "plot_data <- poblenou_ns %>% group_by(Nacionalitat, Sexe) %>% summarise(count = sum(Nombre))\n",
    "\n",
    "# Third, plot a horizontal bar chart of the population counted by 'Nacionalitat',\n",
    "# but only plot the most populous nationalities. Set a cutoff that looks right to you.\n",
    "ggplot(data=plot_data %>% filter(count>70), aes(x=Nacionalitat,y=count, fill= Sexe)) + \n",
    "    geom_col() + coord_flip() + ggtitle(\"Non-Spanish Population in El PobleNou\")\n",
    "\n",
    "#\n",
    "# Note: the number of each 'Sexe'/'Nacionalitat' combo is in the variable 'Nombre'\n",
    "# \n",
    "# Hint: group and count manually, and then use ggplot's geom_col and use coord_flip()\n",
    "# to make the chart horizontal\n",
    "#\n",
    "# Bonus: Display the gender ('Sexe') in different colors, via the \"fill\" property!\n",
    "\n"
   ]
  },
  {
   "cell_type": "markdown",
   "metadata": {
    "ein.tags": "worksheet-0",
    "slideshow": {
     "slide_type": "-"
    }
   },
   "source": [
    "# Problem 3: Classes in Python"
   ]
  },
  {
   "cell_type": "code",
   "execution_count": 106,
   "metadata": {
    "autoscroll": false,
    "ein.tags": "worksheet-0",
    "slideshow": {
     "slide_type": "-"
    }
   },
   "outputs": [],
   "source": [
    "# Create a class called \"RandomClassifier\". \n",
    "\n",
    "# It's constructor should have one required parameter: 'probability'\n",
    "\n",
    "# It should have one instance method, 'predict'\n",
    "\n",
    "# The predict method should take one required parameter: 'x'\n",
    "\n",
    "# The predict method should then randomly return a 1 or 0. It should return a 1\n",
    "# with the probability given in the parameter\n",
    "\n",
    "# The following cell has a test that should pass if you've done it correctly!\n",
    "\n",
    "class RandomClassifier:\n",
    "  \n",
    "    def __init__(self, probability):\n",
    "        self.probability = probability\n",
    "        \n",
    "    def predict(self, x):\n",
    "        return np.random.binomial(size=1, n=1, p= self.probability)\n"
   ]
  },
  {
   "cell_type": "code",
   "execution_count": 107,
   "metadata": {
    "autoscroll": false,
    "ein.tags": "worksheet-0",
    "slideshow": {
     "slide_type": "-"
    }
   },
   "outputs": [],
   "source": [
    "import numpy as np\n",
    "\n",
    "r = RandomClassifier(probability = .2)\n",
    "m = np.mean([r.predict(x = i) for i in np.arange(100000)])\n",
    "\n",
    "np.testing.assert_approx_equal(m, 0.2, 2)\n"
   ]
  },
  {
   "cell_type": "markdown",
   "metadata": {
    "ein.tags": "worksheet-0",
    "slideshow": {
     "slide_type": "-"
    }
   },
   "source": [
    "# Problem 4: Some Theory"
   ]
  },
  {
   "cell_type": "markdown",
   "metadata": {
    "ein.tags": "worksheet-0",
    "slideshow": {
     "slide_type": "-"
    }
   },
   "source": [
    "### What are pure functions and what are their strengths? (2-3 lines)"
   ]
  },
  {
   "cell_type": "markdown",
   "metadata": {
    "ein.tags": "worksheet-0",
    "slideshow": {
     "slide_type": "-"
    }
   },
   "source": [
    "A pure function is one which does not affect variables outside of the function - nor does it's return value depend on other local variables.  With no side effects and consistent retrn values - we can be confident we can use these functions without causing code errors later on from changed values/types."
   ]
  },
  {
   "cell_type": "markdown",
   "metadata": {
    "ein.tags": "worksheet-0",
    "slideshow": {
     "slide_type": "-"
    }
   },
   "source": [
    "### What is lazy evaluation and when might you use it? (2-3 lines)"
   ]
  },
  {
   "cell_type": "markdown",
   "metadata": {
    "ein.tags": "worksheet-0",
    "slideshow": {
     "slide_type": "-"
    }
   },
   "source": [
    "Lazy evaluation delays the evaluation of an expression until it is needed.  This can allow for faster performance by avoiding unneeded calculations and provide a way to deal with potentially infinite data structures.  It also allows for access out of order after a structure has been initialized."
   ]
  },
  {
   "cell_type": "code",
   "execution_count": null,
   "metadata": {},
   "outputs": [],
   "source": []
  },
  {
   "cell_type": "code",
   "execution_count": null,
   "metadata": {},
   "outputs": [],
   "source": []
  }
 ],
 "metadata": {
  "kernelspec": {
   "display_name": "Python 3",
   "language": "python",
   "name": "python3"
  },
  "language_info": {
   "codemirror_mode": {
    "name": "ipython",
    "version": 3
   },
   "file_extension": ".py",
   "mimetype": "text/x-python",
   "name": "python",
   "nbconvert_exporter": "python",
   "pygments_lexer": "ipython3",
   "version": "3.6.3"
  },
  "name": "exam.ipynb"
 },
 "nbformat": 4,
 "nbformat_minor": 2
}
